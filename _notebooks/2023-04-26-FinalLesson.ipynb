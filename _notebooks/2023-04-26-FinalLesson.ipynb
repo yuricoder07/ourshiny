{
 "cells": [
  {
   "attachments": {},
   "cell_type": "markdown",
   "metadata": {},
   "source": [
    "# Frontend and Backend Development with Big Idea 1 Review\n",
    "- toc: true\n",
    "- branch: master\n",
    "- badges: true\n",
    "- comments: true\n",
    "- categories: [fastpages, jupyter]\n",
    "\n",
    "Today, our goal is to review front-end to backend connections and how they have been used in creating our projects this year. We will also go into detail on concepts that may be unfamiliar like pandas and python api fetch.\n",
    "\n",
    "Please make a copy of our repository. In your terminal type: git clone https://github.com/jiya-sav/ourshiny.git "
   ]
  },
  {
   "attachments": {},
   "cell_type": "markdown",
   "metadata": {},
   "source": [
    "## Installing Scripts Lesson\n"
   ]
  },
  {
   "attachments": {},
   "cell_type": "markdown",
   "metadata": {},
   "source": [
    "### For Windows\n",
    "\n",
    "After you've installed VSCode using WSL, install Anaconda on WSL. \n",
    "\n",
    "Anaconda is like a big tool box for your computer, it has tools and libraries that you might need for data analysis, programming, and computing. Anaconda Python packages include pandas, numpy, sqlite, jupyter, bash, and other kernels. Conda is a tool that helps you manage these tools inside Anaconda. It lets you install, update, delete, and organize packages and materials. Conda script tells Conda what tools and materials you need and how to install them in your Anaconda toolbox.\n",
    "\n",
    "![conda image](https://github.com/kayleehou/myproject/blob/master/images/condadiagram.PNG?raw=true)"
   ]
  },
  {
   "cell_type": "markdown",
   "metadata": {},
   "source": [
    "Type these commands in powershell or terminal"
   ]
  },
  {
   "attachments": {},
   "cell_type": "markdown",
   "metadata": {
    "vscode": {
     "languageId": "plaintext"
    }
   },
   "source": [
    "PS C:\\Users\\UserName> wsl  # Windows prompt to WSL command\n",
    "$ cd /tmp # used to store temporary files \n",
    "$ wget https://repo.anaconda.com/archive/Anaconda3-2023.03-Linux-x86_64.sh # downloadable file\n",
    "$ chmod +x Anaconda3-2022.05-Linux-x86_64.sh # chmod (change mode command) changes permissions for a file or directory \n",
    "# Answer yes to all the prompts\n",
    "$ ./Anaconda3-2022.05-Linux-x86_64.sh  "
   ]
  },
  {
   "cell_type": "markdown",
   "metadata": {},
   "source": [
    "Start a new WSL Command or Powershell. Now the WSL prompt should be prefixed with (base) from Anaconda install. If not, go back to Anaconda install. The base prefix indicates that you are running inside the conda/anaconda environment. The command \"conda deactivate\" should bring you back. "
   ]
  },
  {
   "attachments": {},
   "cell_type": "markdown",
   "metadata": {
    "vscode": {
     "languageId": "plaintext"
    }
   },
   "source": [
    "PS C:\\Users\\ShayM> wsl  # Windows prompt\n",
    "(base) shay@MSI:/mnt/c/Users/ShayM$ cd ~ # WSL prompt\n",
    "(base) shay@MSI:~$ # WSL home, best place to install files\n",
    "\n",
    "# you can check your conda versions\n",
    "(base) id:~$ conda --version"
   ]
  },
  {
   "cell_type": "markdown",
   "metadata": {},
   "source": [
    "![command prompt view](https://github.com/kayleehou/myproject/blob/master/images/condaimage2.PNG?raw=true)"
   ]
  },
  {
   "attachments": {},
   "cell_type": "markdown",
   "metadata": {},
   "source": [
    "### For MacOS\n",
    "\n",
    "> Python2 install on MacOS\n",
    "- Install [Python2](https://www.python.org/ftp/python/2.7.18/python-2.7.18-macosx10.9.pkg)\n",
    "\n",
    "> VSCode install on MacOS.  \n",
    "- Install [VSCode](https://code.visualstudio.com/docs/setup/mac)\n",
    "\n",
    "> Anaconda install on MacOS.\n",
    "- Download for MacOS: [Anaconda](https://www.anaconda.com/products/distribution)\n",
    "- Run Install: Answer yes to questions\n",
    "\n",
    "> Homebrew install on MacOS\n",
    "- Homebrew is a tool that helps you easily install and manage software on your Mac. Think of it like a virtual store for your computer where you can browse, download and install a variety of useful programs and tools.\n",
    "- Copy and Paste to Install from Terminal [Homebrew](https://brew.sh)\n",
    "    - Copy ```bash ... curl ...```  command using copy box on website\n",
    "    - Launch ```terminal``` from search bar\n",
    "    - Paste ```bash ... curl ...``` command into Terminal ... \n",
    "    - Make sure command starts, this should provide feedback/output in terminal and could take a long time, like 10-min, there could be a prompt in the middle, at about 5-minutes.  Follow any on screen instructions provided in terminal output to finish.\n",
    "- Homebrew installs a tool called \"brew\" which helps add and manage developer packages on MacOS. \n",
    "\n",
    "Start a new WSL terminal. Now the terminal prompt should be prefixed with (base) from Anaconda install. If not, go back to Anaconda install. \n",
    "\n",
    "> Having Homebrew and Anaconda allows you to easily install Key Packages needed on MacOS like the commands below are all neccessary: \n",
    "```bash\n",
    "$ brew list # list packages\n",
    "$ brew update # update package list\n",
    "$ brew upgrade # upgrade packages\n",
    "$ brew install git  # install latest git\n",
    "$ brew install python # install python3 for development\n",
    "$ python --version # version of python3 installed\n",
    "$ brew install java # openjdk install\n"
   ]
  },
  {
   "attachments": {},
   "cell_type": "markdown",
   "metadata": {},
   "source": [
    "- Hacks: Screen shot that you have conda installed  \n",
    "\n",
    "![conda](images/conda.png \"conda\")"
   ]
  },
  {
   "attachments": {},
   "cell_type": "markdown",
   "metadata": {},
   "source": [
    "## Setting up GitHub Pages with FastPages Features\n",
    "\n",
    "All of you have created your own repository before at the beginning of the year, but some things have changed in the process."
   ]
  },
  {
   "attachments": {},
   "cell_type": "markdown",
   "metadata": {},
   "source": [
    "1. Duplicate APCSP, and use it as template for your own repo\n",
    "\n",
    "![](images/gnr1.png)\n",
    "\n",
    "2. Name your repo and include all branches before clicking the green create button.\n",
    "\n",
    "![](images/gnr2.png)\n",
    "\n",
    "3. If you have an automatically generated pull request, then go ahead and follow the instructions on there. If there is no pull request, as shown below, then move on to step 4.\n",
    "\n",
    "![](images/gnr3.png)\n",
    "\n",
    "4. Navigate to [this link](https://8gwifi.org/sshfunctions.jsp). Select: RSA and 4096 and leave Passphrase blank. Click the blue button Generate-SSH-Keys. You have just created an ssh key-pair.\n",
    "\n",
    "![](images/gnr4.png)\n",
    "\n",
    "5. Navigate to this link. Replace the section of the link \"yourrepositoryname\" with your repository name. In the picture, I have inputted “ourshiny,” because it is my repository name. Replace the section of the link \"yourgithubname\" with your repository name that you just made.\n",
    "\thttps://github.com/yourgithubname/yourrepositoryname/settings/secrets/actions\n",
    "\n",
    "![](images/gnr5.png)\n",
    "\n",
    "6. Click New repository secret. Copy and paste the Private Key (generated in step 4) into the Value field. This includes the \"---BEGIN RSA PRIVATE KEY---\" and \"--END RSA PRIVATE KEY---\" portions. In the Name field, name the secret SSH_DEPLOY_KEY. Once done, click the green Add Secret button.\n",
    "\n",
    "![](images/gnr6.png)\n",
    "\n",
    "7. Navigate to this link, then replace the portions below with your github and repository names. My github name in the image below is jiya-sav, and my repository name is ourshiny.\n",
    "\thttps://github.com/yourgithubname/yourrepositoryname/settings/keys\n",
    "\n",
    "![](images/gnr7.png)\n",
    "\n",
    "8. Click the Add deploy key button. Paste your Public Key (generated in step 4) into the Key box. In the Title, name the key anything you want, for example fastpages-key. Finally, make sure you click the checkbox next to Allow write access (pictured below), and click the green Add key button to save the key.\n",
    "\n",
    "![](images/gnr8.png)\n",
    "\n",
    "![](images/gnr9.png)\n",
    "\n",
    "9. GitHub Actions will build your site, which will take 2-3 minutes to complete. This will happen anytime you push changes to the master branch of your repository. You can monitor the logs of this if you like on the Actions tab of your repo.\n",
    "Your GH-Pages Status badge on your README will eventually appear and be green, indicating your first successful build.\n",
    "You can monitor the status of your site in the GitHub Pages section of your repository settings.\n",
    "\n",
    "Now that you have made your repository secure, you can clone it into vscode and CODE, CODE, CODE!!!"
   ]
  },
  {
   "attachments": {},
   "cell_type": "markdown",
   "metadata": {},
   "source": [
    "## How to Make a Pull Request \n",
    "\n",
    "1. After you've cloned a repository and made changes to it, go to pull requests in your Github repository \n",
    "![pull request 1](https://github.com/kayleehou/myproject/blob/master/images/pull_request1.PNG?raw=true)\n",
    "\n",
    "2. Once you click 'create new pull request,' you should see this with your new changes: \n",
    "![pull request 2](https://github.com/kayleehou/myproject/blob/master/images/pull_request2.PNG?raw=true)\n",
    "\n",
    "3. Change the title and send the pull request \n",
    "![pull request 3](https://github.com/kayleehou/myproject/blob/master/images/pull_request3.PNG?raw=true)\n",
    "\n",
    "- Hacks: You will be turning in all your hacks as a pull request. Title the pull request as shown in the third step but with your own name. Any other titles will not be accepted. "
   ]
  },
  {
   "attachments": {},
   "cell_type": "markdown",
   "metadata": {},
   "source": [
    "## Fetching\n",
    "\n",
    "### The Basics\n",
    "- Fetching means getting data from somewhere else, like a website or database.\n",
    "\n",
    "JavaScript is a programming language that can be used to fetch data from a website or database.\n",
    "\n",
    "- When you fetch data with JavaScript, you first need to tell it where to get the data from. This is called the URL.\n",
    "- Once you know the URL, you can use JavaScript to go and get the data from that URL.\n",
    "- When the data comes back, it's usually in a format like text or JSON. This means that you might need to do some additional work to turn the data into something that your website or application can use.\n",
    "- Once you have the data, you can use JavaScript to display it on your website or application. You can put it in a table, show it on a map, or do anything else you can think of.\n",
    "\n",
    "![](images/frontback.png)\n",
    "\n",
    "### About Fetching\n",
    "#### Method\n",
    "The fetching methods are in line with the CRUD (Create, Read, Update, Delete), and list as follows:\n",
    "- \"GET\": Probably the most common method you would use, which is in line with \"read\". It essentially \"gets\" the information from the API and brings it to the frontend where you are able to display it and read it.\n",
    "- \"POST\": Lines up with \"create\" and adds a resource to the API. You will probably mostly be using this with your own API or if a website adds your input to an API.\n",
    "- \"PUT\" and \"PATCH\": Essentially the \"update\" for API. Use \"PUT\" if you want to change the whole resource, or \"PATCH\" if you want to change just one part of a resource.\n",
    "- \"DELETE\": Exactly how it sounds, deletes a resource from the API\n",
    "\n",
    "\n",
    "Popcorn Hacks:\n",
    "- What method should I use if I want to display some of the data stored in the backend?\n",
    "GET\n",
    "- What method would I use if something in the data is misspelled and I want to fix it real quick?\n",
    "PATCH\n",
    "- What method should I use if I want to add a new entry to the data?\n",
    "POST\n",
    "\n",
    "### Filtering Data\n",
    "- If we want to display API data, we are going to have to filter what we want to display for multiple reasons\n",
    "    - These include making sure that the user only sees information they need to see, and not anything else\n",
    "    - Also we need to present the information in a readable format instead of just seeing the raw data"
   ]
  },
  {
   "attachments": {},
   "cell_type": "markdown",
   "metadata": {},
   "source": [
    "The below code segment, is from a previous project. It shows the use of a url being fetched, and the JavaScript fetch() command being implemented."
   ]
  },
  {
   "cell_type": "code",
   "execution_count": null,
   "metadata": {
    "vscode": {
     "languageId": "javascript"
    }
   },
   "outputs": [],
   "source": [
    "// prepare fetch urls\n",
    "  // const url = \"https://ssjn.nighthawkcodescrums.gq/api/song\";\n",
    "  const url = \"https://ssjncpt.duckdns.org/api/song\";\n",
    "  const sad_url = url + \"/sad/\";  // sad category\n",
    "  const happy_url = url + \"/happy/\";  // happy category\n",
    "  const rage_url = url + \"/rage/\";  // rage category\n",
    "  const indian_url = url + \"/indian/\"; // indian category\n",
    "\n",
    "  // prepare fetch GET options\n",
    "  const options = {\n",
    "    method: 'GET', // *GET, POST, PUT, DELETE, etc.\n",
    "    mode: 'cors', // cors, *cors, same-origin\n",
    "    cache: 'default', // *default, no-cache, reload, force-cache, only-if-cached\n",
    "    credentials: 'omit', // include, *same-origin, omit\n",
    "    headers: {\n",
    "      'Content-Type': 'application/json'\n",
    "      // 'Content-Type': 'application/x-www-form-urlencoded',\n",
    "    },\n",
    "  };\n",
    "  // prepare fetch PUT options, clones with JS Spread Operator (...)\n",
    "  const put_options = {...options, method: 'PUT'}; // clones and replaces method\n",
    "\n",
    "  // fetch the API\n",
    "  fetch(url, options)\n",
    "    // response is a RESTful \"promise\" on any successful fetch\n",
    "    .then(response => {\n",
    "      // check for response errors\n",
    "      if (response.status !== 200) {\n",
    "          error('GET API response failure: ' + response.status);\n",
    "          return;\n",
    "      }\n",
    "      // valid response will have JSON data"
   ]
  },
  {
   "attachments": {},
   "cell_type": "markdown",
   "metadata": {},
   "source": [
    "## Third Party APIs\n",
    "\n",
    "- APIs provided by other developers for public use.\n",
    "\n",
    "- Programmers can use the content of these APIs to create new functionalities for their programs, or they can also simply take advantage of the data of the API for different uses.\n",
    "\n",
    "  - Ex: A developed can use Google Account login to allow users to log in with their google account\n",
    "\n",
    "  - Ex: Using the content of a weather API to make a weather app \n",
    "\n",
    "- The functionalities of these APIs are usually accessed via JavaScript (usually) as you’ve seen before in your past projects.\n",
    "\n",
    "- 3rd party APIs are located on third party servers. To access them from JavaScript you first need to connect to the API functionality and make it available on your page. "
   ]
  },
  {
   "cell_type": "code",
   "execution_count": null,
   "metadata": {
    "vscode": {
     "languageId": "html"
    }
   },
   "outputs": [],
   "source": [
    "<script src=\"https://api.mqcdn.com/sdk/mapquest-js/v1.3.2/mapquest.js\" defer></script>\n",
    "<link  rel=\"stylesheet\"  href=\"https://api.mqcdn.com/sdk/mapquest-js/v1.3.2/mapquest.css\" />"
   ]
  },
  {
   "attachments": {},
   "cell_type": "markdown",
   "metadata": {},
   "source": [
    "- Here is an example of accessing the objects available in the library above."
   ]
  },
  {
   "cell_type": "code",
   "execution_count": null,
   "metadata": {
    "vscode": {
     "languageId": "javascript"
    }
   },
   "outputs": [],
   "source": [
    "const map = L.mapquest.map('map', {\n",
    "    center: [53.480759, -2.242631],\n",
    "    layers: L.mapquest.tileLayer('map'),\n",
    "    zoom: 12\n",
    "  });"
   ]
  },
  {
   "attachments": {},
   "cell_type": "markdown",
   "metadata": {},
   "source": [
    "- The process of accessing and using third-party APIs can vary depending on the specific API and the requirements set by the API provider.\n",
    "3rd party APIs use developer keys to allow developers access to the API functionality, which protects the owner of the API."
   ]
  },
  {
   "cell_type": "code",
   "execution_count": null,
   "metadata": {
    "vscode": {
     "languageId": "javascript"
    }
   },
   "outputs": [],
   "source": [
    "L.mapquest.key = 'YOUR-API-KEY-HERE';"
   ]
  },
  {
   "attachments": {},
   "cell_type": "markdown",
   "metadata": {},
   "source": [
    "- Developers must apply to get the key of a certain API, and then include it in their code to be allowed access to the API's functionality.\n",
    "Some API keys are accessed slightly differently, but the method is similar for the most part.\n",
    "\n",
    "Put the link of a 3rd party API you have or will use below?"
   ]
  },
  {
   "attachments": {},
   "cell_type": "markdown",
   "metadata": {},
   "source": [
    "## Pandas\n",
    "\n",
    "While 3rd party APIs give you access to a plethora of data you may have not been able to include using a completely new self-made database, pandas can help you organize and utlize this data. \n",
    "\n",
    "Pandas is an open-source library that allows for the manipulation and analysis of numerical data, which is vital in real-life applications. \n",
    "\n",
    "We have used this in the song recommendation program we are currently developing. The use of pandas allows us to take the csv file we obtained from a third party and display it in a format we can manipulate and analyze."
   ]
  },
  {
   "cell_type": "code",
   "execution_count": null,
   "metadata": {},
   "outputs": [],
   "source": [
    "import os\n",
    "import pandas as pd\n",
    "from flask import render_template\n",
    "\n",
    "@app.route('/songdata')\n",
    "def songdata():\n",
    "    # Path to the CSV file\n",
    "    csv_path = os.path.join(app.static_folder, 'songdata.csv')\n",
    "\n",
    "    # Read the CSV file into a pandas dataframe\n",
    "    df = pd.read_csv(csv_path)\n",
    "\n",
    "    # Render the dataframe as an HTML table using Jinja2\n",
    "    return render_template('songdata.html', table=df.to_html(index=False))"
   ]
  },
  {
   "attachments": {},
   "cell_type": "markdown",
   "metadata": {},
   "source": [
    "This is how the dataframe will appear on our flask:\n",
    "\n",
    "![](images/localpand.png)\n",
    "\n"
   ]
  },
  {
   "attachments": {},
   "cell_type": "markdown",
   "metadata": {},
   "source": [
    "## Python (Request) Fetch\n",
    "### Example with Weather API\n",
    "\n",
    "- What method is being used in these cells?\n",
    "GET"
   ]
  },
  {
   "cell_type": "code",
   "execution_count": null,
   "metadata": {},
   "outputs": [
    {
     "name": "stdout",
     "output_type": "stream",
     "text": [
      "{'location': {'city': 'San Diego', 'woeid': 2487889, 'country': 'United States', 'lat': 32.831699, 'long': -117.122002, 'timezone_id': 'America/Los_Angeles'}, 'current_observation': {'pubDate': 1682463385, 'wind': {'chill': 64, 'direction': 'WSW', 'speed': 9}, 'atmosphere': {'humidity': 65, 'visibility': 10, 'pressure': 1012.5}, 'astronomy': {'sunrise': '6:08 AM', 'sunset': '7:26 PM'}, 'condition': {'temperature': 65, 'text': 'Mostly Cloudy', 'code': 28}}, 'forecasts': [{'day': 'Tue', 'date': 1682438400, 'high': 67, 'low': 55, 'text': 'Mostly Clear', 'code': 33}, {'day': 'Wed', 'date': 1682524800, 'high': 73, 'low': 56, 'text': 'Partly Cloudy', 'code': 30}, {'day': 'Thu', 'date': 1682611200, 'high': 76, 'low': 57, 'text': 'Mostly Sunny', 'code': 34}, {'day': 'Fri', 'date': 1682697600, 'high': 76, 'low': 58, 'text': 'Mostly Sunny', 'code': 34}, {'day': 'Sat', 'date': 1682784000, 'high': 77, 'low': 59, 'text': 'Partly Cloudy', 'code': 30}, {'day': 'Sun', 'date': 1682870400, 'high': 75, 'low': 59, 'text': 'Partly Cloudy', 'code': 30}, {'day': 'Mon', 'date': 1682956800, 'high': 64, 'low': 54, 'text': 'Cloudy', 'code': 26}, {'day': 'Tue', 'date': 1683043200, 'high': 62, 'low': 52, 'text': 'Mostly Cloudy', 'code': 28}, {'day': 'Wed', 'date': 1683129600, 'high': 60, 'low': 53, 'text': 'Partly Cloudy', 'code': 30}, {'day': 'Thu', 'date': 1683216000, 'high': 62, 'low': 51, 'text': 'Partly Cloudy', 'code': 30}, {'day': 'Fri', 'date': 1683302400, 'high': 63, 'low': 53, 'text': 'Mostly Cloudy', 'code': 28}]}\n"
     ]
    }
   ],
   "source": [
    "import requests\n",
    "\n",
    "url = \"https://yahoo-weather5.p.rapidapi.com/weather\"\n",
    "\n",
    "querystring = {\"location\":\"San Diego\",\"format\":\"json\",\"u\":\"f\"}\n",
    "\n",
    "headers = {\n",
    "\t\"X-RapidAPI-Key\": \"4abcb54450msh7468dfd72294e89p18fbaajsn6d4200063b39\",\n",
    "\t\"X-RapidAPI-Host\": \"yahoo-weather5.p.rapidapi.com\"\n",
    "}\n",
    "\n",
    "response = requests.request(\"GET\", url, headers=headers, params=querystring)\n",
    "\n",
    "print(response.json())"
   ]
  },
  {
   "cell_type": "markdown",
   "metadata": {},
   "source": [
    "The fetch worked and we can see all the data, but this is presented in a way that is not very readable. It also has a lot of information we didn't see. Let's say I just want to see the projected weather forecasts."
   ]
  },
  {
   "cell_type": "code",
   "execution_count": null,
   "metadata": {},
   "outputs": [
    {
     "name": "stdout",
     "output_type": "stream",
     "text": [
      "San Diego Weather Forecast:\n",
      "\n",
      "\tday Tue\n",
      "\tdate 1682438400\n",
      "\thigh 67\n",
      "\tlow 55\n",
      "\ttext Mostly Clear\n",
      "\tcode 33\n",
      "\n",
      "\n",
      "\tday Wed\n",
      "\tdate 1682524800\n",
      "\thigh 73\n",
      "\tlow 56\n",
      "\ttext Partly Cloudy\n",
      "\tcode 30\n",
      "\n",
      "\n",
      "\tday Thu\n",
      "\tdate 1682611200\n",
      "\thigh 76\n",
      "\tlow 57\n",
      "\ttext Mostly Sunny\n",
      "\tcode 34\n",
      "\n",
      "\n",
      "\tday Fri\n",
      "\tdate 1682697600\n",
      "\thigh 76\n",
      "\tlow 58\n",
      "\ttext Mostly Sunny\n",
      "\tcode 34\n",
      "\n",
      "\n",
      "\tday Sat\n",
      "\tdate 1682784000\n",
      "\thigh 77\n",
      "\tlow 59\n",
      "\ttext Partly Cloudy\n",
      "\tcode 30\n",
      "\n",
      "\n",
      "\tday Sun\n",
      "\tdate 1682870400\n",
      "\thigh 75\n",
      "\tlow 59\n",
      "\ttext Partly Cloudy\n",
      "\tcode 30\n",
      "\n",
      "\n",
      "\tday Mon\n",
      "\tdate 1682956800\n",
      "\thigh 64\n",
      "\tlow 54\n",
      "\ttext Cloudy\n",
      "\tcode 26\n",
      "\n",
      "\n",
      "\tday Tue\n",
      "\tdate 1683043200\n",
      "\thigh 62\n",
      "\tlow 52\n",
      "\ttext Mostly Cloudy\n",
      "\tcode 28\n",
      "\n",
      "\n",
      "\tday Wed\n",
      "\tdate 1683129600\n",
      "\thigh 60\n",
      "\tlow 53\n",
      "\ttext Partly Cloudy\n",
      "\tcode 30\n",
      "\n",
      "\n",
      "\tday Thu\n",
      "\tdate 1683216000\n",
      "\thigh 62\n",
      "\tlow 51\n",
      "\ttext Partly Cloudy\n",
      "\tcode 30\n",
      "\n",
      "\n",
      "\tday Fri\n",
      "\tdate 1683302400\n",
      "\thigh 63\n",
      "\tlow 53\n",
      "\ttext Mostly Cloudy\n",
      "\tcode 28\n",
      "\n",
      "\n"
     ]
    }
   ],
   "source": [
    "import requests\n",
    "\n",
    "url = \"https://yahoo-weather5.p.rapidapi.com/weather\"\n",
    "\n",
    "querystring = {\"location\":\"San Diego\",\"format\":\"json\",\"u\":\"f\"}\n",
    "\n",
    "headers = {\n",
    "\t\"X-RapidAPI-Key\": \"4abcb54450msh7468dfd72294e89p18fbaajsn6d4200063b39\",\n",
    "\t\"X-RapidAPI-Host\": \"yahoo-weather5.p.rapidapi.com\"\n",
    "}\n",
    "\n",
    "response = requests.request(\"GET\", url, headers=headers, params=querystring)\n",
    "\n",
    "print(\"San Diego Weather Forecast:\" + \"\\n\")\n",
    "forecast = response.json().get(\"forecasts\")\n",
    "i = 0\n",
    "while i < len(forecast):\n",
    "\tfor key, value in forecast[i].items():\n",
    "\t\tprint(\"\\t\" + key, value)\n",
    "\ti += 1\n",
    "\tprint(\"\\n\")"
   ]
  },
  {
   "cell_type": "markdown",
   "metadata": {},
   "source": [
    "As we can see, we now can see the data in a much more organized and readable format, and we only see the forecasts, which is what we wanted to see"
   ]
  },
  {
   "attachments": {},
   "cell_type": "markdown",
   "metadata": {},
   "source": [
    "# Hacks and Point Division\n",
    "\n",
    "- Popcorn questions answered within lesson (.2)\n",
    "- Screenshot showing proof that conda is installed (.1)\n",
    "- Create 3 quiz questions to demonstrate the main steps in creating a repository on Github (.1)\n",
    "- Fetch from a third party API, and display json data. Then use the json data in any simple JavaScript function (hint: parse, this makes json data into a JavaScript object) (.4)\n",
    "  - In your code, comment on how you implemented a 3rd party API. Reflect on how using the 3rd party API helped.\n",
    "- Pull request successful completion: (.1)\n",
    "\n",
    "Extra: Use fetch() and display data from an API, self-made or third party (.1)\n",
    "\n"
   ]
  },
  {
   "attachments": {},
   "cell_type": "markdown",
   "metadata": {},
   "source": [
    "## * 3 question mc quiz (0.1)\n",
    "\n",
    "#### 1. What is the purpose for having README.md file on your repo?\n",
    "- A. Storing important data values\n",
    "- B. Informing the viewer on the purpose of the repo (a brief introduction)\n",
    "- C. To make the repo look cooler\n",
    "- D. To hold changes to the repo\n",
    "\n",
    "Answer: B\n",
    "\n",
    "#### 2 What's the first step to creating a pull request on Github\n",
    "- A. forking the repo\n",
    "- B. Creating a name for the repo\n",
    "- C. Adding a SSH key to the repo\n",
    "- D. Cloning the repo to your vscode\n",
    "\n",
    "Answer: A\n",
    "\n",
    "#### 3. What is the first step to making a repo on github?\n",
    "- A. Git cloning someone elses repo\n",
    "- B. Fork a repo from your friend\n",
    "- C. Pull changes from a random repo\n",
    "- D. Create a new repo\n",
    "\n",
    "Answer: D\n",
    "\n"
   ]
  },
  {
   "cell_type": "code",
   "execution_count": null,
   "metadata": {
    "vscode": {
     "languageId": "javascript"
    }
   },
   "outputs": [],
   "source": [
    "// code (js kernel doesnt work, so i added it to repl) --->  https://replit.com/join/fvqwpbylfh-timewarpes\n",
    "// Yuri S.\n",
    "const request = require('request');\n",
    "\n",
    "function searchRecipe(queryInp){\n",
    "  const options = {\n",
    "  method: 'GET',\n",
    "  url: 'https://nutrition-by-api-ninjas.p.rapidapi.com/v1/nutrition',\n",
    "  qs: {\n",
    "    query: queryInp\n",
    "  },\n",
    "  headers: {\n",
    "    'content-type': 'application/octet-stream',\n",
    "    'X-RapidAPI-Key': '47adfc21bcmsh44e5abcedbf2a29p150b62jsn37a5f5ecf19a',\n",
    "    'X-RapidAPI-Host': 'nutrition-by-api-ninjas.p.rapidapi.com'\n",
    "  }\n",
    "};\n",
    "\n",
    "request(options, function (error, response, body) {\n",
    "\tif (error) throw new Error(error);\n",
    "  return(body)\n",
    "});\n",
    "}\n",
    "\n",
    "testFunction(\"burger\")"
   ]
  },
  {
   "cell_type": "code",
   "execution_count": 1,
   "metadata": {},
   "outputs": [
    {
     "name": "stdout",
     "output_type": "stream",
     "text": [
      "[{'title': 'Fresh Minted Mango-Chutney Burger Topping', 'ingredients': '1 Ripe mango (1 lb), halved,|Pitted peeled & cut in small|Pieces|2 tb Minced red onion|2 tb Fresh lime juice|1 tb Minced crystallized ginger|1/4 ts Crushed coriander seeds|1/4 ts Crushed red pepper|1 tb Chopped fresh mint', 'instructions': 'Gently mix all ingredients, except mint, in a bowl until well blended. Cover & chill at least 2 hours or up to 4 days. Stir in mint 15 minutes before serving.'}, {'title': 'Fresh Tomato Sauce (Gardenburger)', 'ingredients': '1 tb Olive oil|1/2 Yellow onion; diced|2 Cloves garlic; minced|8 Roma tomatoes; peeled, seeded and diced|1/4 ts Thyme|1 tb Fresh basil leaf|1/2 ts Black pepper|1 Tiny pinch cinnamon; or to taste|1/2 c White wine', 'instructions': 'Heat oil in heavy sauce pan over medium heat. Saute onions and garlic until they are tender and fragrant. (Do not allow them to brown.) Add diced tomatoes, herbs, cinnamon and wine. Cover and adjust heat to allow mixture to simmer. Remove lid and allow sauce to reduce to proper consistency. Season with sea salt and black pepper as desired. Makes: About 2 cups.'}, {'title': 'Goat Cheese Burgers', 'ingredients': '1 1/2 lb Lean ground beef|1/2 c Fresh breadcrumbs|2 tb Fresh lemon juice|2 ts Lemon zest|2 ts Thyme|1 ts Salt|1/2 ts Pepper|6 tb Soft; fresh goat cheese|Hamburger buns|Red pepper relish; (recipe follows)', 'instructions': 'Combine beef with crumbs, lemon juice, lemon zest, thyme, salt and pepper. Mix well. Form into 12 thin (4\" diameter) patties. Place 1 tablespoon goat cheese atop 6 of the beef patties. Top each with remaining 6 patties. Seal at edges to enclose cheese. Grill until cooked through, about 5 minutes per side, or until desired doneness. Serve with buns and red pepper relish. Yield: 6 servings.'}, {'title': 'Good Simple Lentilburgers', 'ingredients': '1 c Lentils|1 cn Broth, or water|2 c Whole wheat bread crumbs|1/2 c Onion -- finely chopped|1/4 c Celery -- finely chopped|2 tb Parsley -- chopped|1 Clove garlic -- minced|1/2 ts Thyme|1/2 ts Salt|1/4 ts Black pepper|1/4 c Flour|2 tb Vegetable oil|6 Hamburger buns|Condiments: lettuce, tomato|Mustard,|Mayo, pickles, etc.', 'instructions': 'Rinse and drain lentils. Bring lentils and broth (or water) to boil; reduce heat, cover and simmer 20 minutes or until lentils are tender. Drain lentils, reserving liquid. Mash slightly, add bread crumbs, onion, celery, parsley, garlic, thyme, salt and pepper. Mix well, adding reserved liquid if necessary to reach the right consistency. Form into 6 patties; dredge in flour and pan fry about 5 minutes on each side, until thoroughly browned. Serve on buns as you would any hamburger.'}, {'title': 'Greek Turkey Burgers (6 Points)', 'ingredients': '3/4 c Fat-free yogurt; plain|2 Cloves garlic; minced|3 tb Fresh mint; chopped|3/4 ts Salt; divided|1/4 ts Pepper|1 1/2 lb Extra lean ground turkey breast meat|1/2 c Feta cheese; crumbled|8 Olives; Kalamata, pitted and chopped|3 lg Pita breads; cut in half, whole-wheat|1 lg Tomato; sliced|1 sm Onion; red, sliced', 'instructions': 'Line a sieve with a paper towel. Pour yogurt into sieve set over bowl. Let drain 30 minutes. In bowl combine garlic, mint and 1/4 tsp. salt. Stir drained yogurt into garlic mixture; chill until ready to serve. Preheat grill or broiler. In bowl combine turkey, cheese, olive, remaining 1/2 teaspoon salt and pepper. Form into 6 patties. Grill or broil until cooked through, 6-7 minutes, turning once. Serve burgers in pita bread with tomato, onions and yogurt sauce. Makes 6 servings. WW Points per burger = 6 Per Burger: Calories 286, Fat 7g, Fiber 1g.'}, {'title': 'Greek-Style Lamb Burgers with Minted Yogurt Sauce', 'ingredients': '=== FOR YOGURT SAUCE ===|1 pk Plain yogurt -; (12 oz)|2 sm Garlic cloves; mashed to paste with|1/4 ts Salt|3 tb Shredded fresh mint leaves; or to taste|=== FOR BURGERS ===|2 lb Ground lamb|1/2 c Crumbled feta cheese|1/2 c Finely-chopped pitted Kalamata olives|6 sm Pita loaves; each split halfway|Around edge to form a pocket|2 sm Vine-ripened tomatoes; sliced|2 sm Green bell peppers; cut into rings|1 Red onion; sliced thin', 'instructions': 'Make yogurt sauce: Drain yogurt in a sieve lined with a dampened paper towel set over a bowl 30 minutes. Transfer drained yogurt to a small bowl and stir in garlic paste and mint. Make burgers: Prepare grill. Handling lamb as gently as possible, in a bowl combine lamb with feta and olives and form into six 1-inch-thick patties. Season burgers lightly with salt and pepper to taste and grill on an oiled rack set 5 to 6 inches over glowing coals 7 minutes on each side for medium-rare. Transfer burgers to pita pockets and top with tomatoes, bell peppers and onion. Serve burgers with yogurt sauce. This recipe yields 6 servings. Per serving: 482 Calories (kcal); 38g Total Fat; (72% calories from fat); 28g Protein; 6g Carbohydrate; 122mg Cholesterol; 319mg Sodium Food Exchanges: 0 Grain(Starch); 4 Lean Meat; 1 Vegetable; 0 Fruit; 5 Fat; 0 Other Carbohydrates'}, {'title': 'Green Chile Burgers (Gf Grill)', 'ingredients': '1 lb Lean ground beef|1 cn (4 oz) chopped green chiles; drained|Jalapeno hot sauce; to taste|Salt and pepper; to taste|4 Burger buns; split & toasted', 'instructions': 'In a large bowl, mix together the beef, chiles, hot sauce (as much as you can stand) and salt and pepper. Mix well. Preheat GF Grill. When hot, spray with nonstick spray. Place burgers on the grid. Close the top. Grill for 4 minutes, turn over and cook for another 2. Turn off grill (unplug). While burgers are cooking, toast 4 burger buns. When burgers are ready, put burgers on buns. Place your favorite toppings on (sliced onion, sliced tomatoes, ketchup). Serve with potato salad and cole slaw.'}, {'title': 'Mexican Black Bean Burger', 'ingredients': '1 16 oz. can black beans - drained|1/4 c Diced yellow onion|1/4 c Diced red bell pepper|1/2 ts Cayenne pepper|1 Egg|1 c Seasoned bread crumbs|2 tb Chopped cilantro|2 tb Olive oil|Salsa and guacamole for garnish', 'instructions': 'Directions: Place the rinsed and drained black beans, onion, bell pepper, cayenne, egg, bread crumbs, and cilantro into a food processor. Blend well until ingredients are combined. Add more bread crumbs if needed to hold mixture together. Form four patties and refrigerate for one hour to allow them to set. Heat the olive oil in a large skillet. Add the patties and cook approximately 3 minutes on each side, or until cooked through. Serve each patty on a bun with salsa and guacamole.'}, {'title': 'Michaelburgers', 'ingredients': '3 lb Ground chuck; or tad over|4 tb Water|1 tb Soy Sauce|4 ts Light Brown Sugar - heaping|2 ts Salt|2 ts Coarse ground blk pepper|2 ts Season pepper', 'instructions': \"Here's a recipe for burgers that has people constantly asking me to make them again... Mix all together. Form into six 1/2lb patties with burger press. Important to use a press as it creates needed density in the meat and will retain much more juice than were the patties hand formed. Using index finger, make hole in center of each burger patty. Make sure hole is similar size on other side. The hole will insure even cooking throughout the patty. Put in fridge for an hour or more. Preheat both sides of grill on high with wood on one side. Personal wood preference for these is: Pecan. Also good with many other woods, but Pecan seems to blend very well with these seasonings. When wood starts to smoke, turn that side to low, and turn off other side. Put burgers on off side of grill. Turn patties over when they release from grill..maybe 10-15 mins. Remove from grill when they look greasy (juicy) all over the tops. They will be medium well done (no pink) but squirting juice when you bite into them. Meat will be gorgeous...red cast on the outside from the smoke, like an allover exterior smoke ring . For slightly pink interior, remove when starting to show juice on outside. Cover tray of burgers with foil and let set for at least 5 minutes before serving. Know they're just burgers, but folks do rave about them. This recipe started out as Willingham's Holy Burgers. Worked with it, changed the weight, altered the ingredients, etc. Hope you like them...\"}, {'title': 'Honey-Mustard Burgers', 'ingredients': '1 lb Ground beef; 80% lean|3 tb Dijon-style mustard|2 tb Honey|1 tb Oregano leaves; minced -or-|1 ts Dried oregano; divided|1/4 c Diced onion|1/4 ts Black pepper; coarsely ground|4 Leaf lettuce leaves|4 Crusty rolls; split|4 Onion slices; separated into rings', 'instructions': 'Combine mustard, honey and 1 teaspoon oregano; reserve. Combine ground beef, 2 tablespoons honey-mustard sauce, remaining 2 teaspoons oregano, onion and pepper, mixing lightly but thoroughly. Divide beef mixture into 4 equal portions; shape into four 1/2-inch thick patties, 4 inches in diameter. Heat large heavy nonstick skillet over medium heat 5 minutes. Panbroil patties 7 to 8 minutes, turning once. NOTES : To serve, place 1 lettuce leaf on each roll bottom; top each with grilled burger. Spoon reserved honey-mustard sauce over burgers; garnish with onion rings, if desired. Close with roll tops.'}]\n"
     ]
    }
   ],
   "source": [
    "# python version\n",
    "import requests\n",
    "\n",
    "def searchItem(item):\n",
    "  result_list = []\n",
    "  # JSON data:\n",
    "  x = {\"title\": \"\", \"ingredients\": \"\", \"instructions\": \"\"}\n",
    "\n",
    "  # Request\n",
    "  url = \"https://recipe-by-api-ninjas.p.rapidapi.com/v1/recipe\"\n",
    "  querystring = {\"query\": item}\n",
    "  headers = {\n",
    "      \"X-RapidAPI-Key\": \"cb84e1853amsh36bd127c21f5c41p12163cjsn5ce359cf2f1a\",\n",
    "      \"X-RapidAPI-Host\": \"recipe-by-api-ninjas.p.rapidapi.com\"\n",
    "  }\n",
    "\n",
    "  response = requests.request(\"GET\", url, headers=headers, params=querystring)\n",
    "  parse_req = response.json()\n",
    "  for i in range(len(parse_req)):\n",
    "      title = parse_req[i][\"title\"]\n",
    "      ingredients = parse_req[i][\"ingredients\"]\n",
    "      instructions = parse_req[i][\"instructions\"]\n",
    "      # JSON data:\n",
    "      x  =  {\n",
    "          \"title\": title,\n",
    "          \"ingredients\": ingredients,\n",
    "          \"instructions\": instructions\n",
    "      }\n",
    "      result_list.append(x)\n",
    "  return result_list\n",
    "\n",
    "print(searchItem(\"burger\"))"
   ]
  }
 ],
 "metadata": {
  "kernelspec": {
   "display_name": "base",
   "language": "python",
   "name": "python3"
  },
  "language_info": {
   "codemirror_mode": {
    "name": "ipython",
    "version": 3
   },
   "file_extension": ".py",
   "mimetype": "text/x-python",
   "name": "python",
   "nbconvert_exporter": "python",
   "pygments_lexer": "ipython3",
   "version": "3.9.12"
  },
  "orig_nbformat": 4
 },
 "nbformat": 4,
 "nbformat_minor": 2
}
